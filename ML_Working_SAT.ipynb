{
 "cells": [
  {
   "cell_type": "markdown",
   "metadata": {},
   "source": [
    "### Machine Learning Prep"
   ]
  },
  {
   "cell_type": "code",
   "execution_count": 1,
   "metadata": {},
   "outputs": [],
   "source": [
    "# Dependencies\n",
    "\n",
    "import warnings\n",
    "warnings.simplefilter('ignore')\n",
    "\n",
    "%matplotlib inline\n",
    "\n",
    "import matplotlib.pyplot as plt\n",
    "import numpy as np\n",
    "import pandas as pd\n",
    "import sklearn"
   ]
  },
  {
   "cell_type": "code",
   "execution_count": 2,
   "metadata": {
    "scrolled": true
   },
   "outputs": [
    {
     "data": {
      "text/plain": [
       "TRIPS_COUNT              int64\n",
       "AVG_SERVICED           float64\n",
       "MAX_LOAD                 int64\n",
       "AVG_PASSENGER_MILES    float64\n",
       "AVG_SEGMENT_MILES      float64\n",
       "SERVICE_TYPE            object\n",
       "dtype: object"
      ]
     },
     "execution_count": 2,
     "metadata": {},
     "output_type": "execute_result"
    }
   ],
   "source": [
    "# Read the CSV file created in Tableau Prep for Machine Learning \n",
    "GRTC_Ridership_df = pd.read_csv('..\\Tableau Prep Output\\ML_Plot_May_2019.csv')\n",
    "GRTC_Ridership_df.dtypes"
   ]
  },
  {
   "cell_type": "code",
   "execution_count": 3,
   "metadata": {},
   "outputs": [
    {
     "data": {
      "text/html": [
       "<div>\n",
       "<style scoped>\n",
       "    .dataframe tbody tr th:only-of-type {\n",
       "        vertical-align: middle;\n",
       "    }\n",
       "\n",
       "    .dataframe tbody tr th {\n",
       "        vertical-align: top;\n",
       "    }\n",
       "\n",
       "    .dataframe thead th {\n",
       "        text-align: right;\n",
       "    }\n",
       "</style>\n",
       "<table border=\"1\" class=\"dataframe\">\n",
       "  <thead>\n",
       "    <tr style=\"text-align: right;\">\n",
       "      <th></th>\n",
       "      <th>TRIPS_COUNT</th>\n",
       "      <th>AVG_SERVICED</th>\n",
       "      <th>MAX_LOAD</th>\n",
       "      <th>AVG_PASSENGER_MILES</th>\n",
       "      <th>AVG_SEGMENT_MILES</th>\n",
       "      <th>SERVICE_TYPE</th>\n",
       "    </tr>\n",
       "  </thead>\n",
       "  <tbody>\n",
       "    <tr>\n",
       "      <th>0</th>\n",
       "      <td>9</td>\n",
       "      <td>0.000</td>\n",
       "      <td>2</td>\n",
       "      <td>0.240572</td>\n",
       "      <td>0.270644</td>\n",
       "      <td>Local</td>\n",
       "    </tr>\n",
       "    <tr>\n",
       "      <th>1</th>\n",
       "      <td>9</td>\n",
       "      <td>0.000</td>\n",
       "      <td>2</td>\n",
       "      <td>0.275926</td>\n",
       "      <td>0.310417</td>\n",
       "      <td>Local</td>\n",
       "    </tr>\n",
       "    <tr>\n",
       "      <th>2</th>\n",
       "      <td>9</td>\n",
       "      <td>0.222</td>\n",
       "      <td>3</td>\n",
       "      <td>0.109007</td>\n",
       "      <td>0.098106</td>\n",
       "      <td>Local</td>\n",
       "    </tr>\n",
       "    <tr>\n",
       "      <th>3</th>\n",
       "      <td>9</td>\n",
       "      <td>0.333</td>\n",
       "      <td>4</td>\n",
       "      <td>0.398885</td>\n",
       "      <td>0.211174</td>\n",
       "      <td>Local</td>\n",
       "    </tr>\n",
       "    <tr>\n",
       "      <th>4</th>\n",
       "      <td>9</td>\n",
       "      <td>0.000</td>\n",
       "      <td>4</td>\n",
       "      <td>0.213931</td>\n",
       "      <td>0.113258</td>\n",
       "      <td>Local</td>\n",
       "    </tr>\n",
       "  </tbody>\n",
       "</table>\n",
       "</div>"
      ],
      "text/plain": [
       "   TRIPS_COUNT  AVG_SERVICED  MAX_LOAD  AVG_PASSENGER_MILES  \\\n",
       "0            9         0.000         2             0.240572   \n",
       "1            9         0.000         2             0.275926   \n",
       "2            9         0.222         3             0.109007   \n",
       "3            9         0.333         4             0.398885   \n",
       "4            9         0.000         4             0.213931   \n",
       "\n",
       "   AVG_SEGMENT_MILES SERVICE_TYPE  \n",
       "0           0.270644        Local  \n",
       "1           0.310417        Local  \n",
       "2           0.098106        Local  \n",
       "3           0.211174        Local  \n",
       "4           0.113258        Local  "
      ]
     },
     "execution_count": 3,
     "metadata": {},
     "output_type": "execute_result"
    }
   ],
   "source": [
    "GRTC_Ridership_df.head()"
   ]
  },
  {
   "cell_type": "code",
   "execution_count": 4,
   "metadata": {},
   "outputs": [
    {
     "data": {
      "text/plain": [
       "(25400, 6)"
      ]
     },
     "execution_count": 4,
     "metadata": {},
     "output_type": "execute_result"
    }
   ],
   "source": [
    "GRTC_Ridership_df.shape"
   ]
  },
  {
   "cell_type": "code",
   "execution_count": 5,
   "metadata": {},
   "outputs": [
    {
     "name": "stdout",
     "output_type": "stream",
     "text": [
      "<class 'pandas.core.frame.DataFrame'>\n",
      "RangeIndex: 25400 entries, 0 to 25399\n",
      "Data columns (total 6 columns):\n",
      "TRIPS_COUNT            25400 non-null int64\n",
      "AVG_SERVICED           25400 non-null float64\n",
      "MAX_LOAD               25400 non-null int64\n",
      "AVG_PASSENGER_MILES    25400 non-null float64\n",
      "AVG_SEGMENT_MILES      25400 non-null float64\n",
      "SERVICE_TYPE           25400 non-null object\n",
      "dtypes: float64(3), int64(2), object(1)\n",
      "memory usage: 1.2+ MB\n"
     ]
    }
   ],
   "source": [
    "GRTC_Ridership_df.info()"
   ]
  },
  {
   "cell_type": "code",
   "execution_count": 6,
   "metadata": {},
   "outputs": [
    {
     "data": {
      "text/plain": [
       "Local      19956\n",
       "Express     5444\n",
       "Name: SERVICE_TYPE, dtype: int64"
      ]
     },
     "execution_count": 6,
     "metadata": {},
     "output_type": "execute_result"
    }
   ],
   "source": [
    "GRTC_Ridership_df['SERVICE_TYPE'].value_counts() #The result below indicates stratefication is necessary"
   ]
  },
  {
   "cell_type": "code",
   "execution_count": 7,
   "metadata": {},
   "outputs": [
    {
     "data": {
      "text/html": [
       "<div>\n",
       "<style scoped>\n",
       "    .dataframe tbody tr th:only-of-type {\n",
       "        vertical-align: middle;\n",
       "    }\n",
       "\n",
       "    .dataframe tbody tr th {\n",
       "        vertical-align: top;\n",
       "    }\n",
       "\n",
       "    .dataframe thead th {\n",
       "        text-align: right;\n",
       "    }\n",
       "</style>\n",
       "<table border=\"1\" class=\"dataframe\">\n",
       "  <thead>\n",
       "    <tr style=\"text-align: right;\">\n",
       "      <th></th>\n",
       "      <th>TRIPS_COUNT</th>\n",
       "      <th>AVG_SERVICED</th>\n",
       "      <th>MAX_LOAD</th>\n",
       "      <th>AVG_PASSENGER_MILES</th>\n",
       "      <th>AVG_SEGMENT_MILES</th>\n",
       "    </tr>\n",
       "  </thead>\n",
       "  <tbody>\n",
       "    <tr>\n",
       "      <th>count</th>\n",
       "      <td>25400.000000</td>\n",
       "      <td>25400.000000</td>\n",
       "      <td>25400.000000</td>\n",
       "      <td>25400.000000</td>\n",
       "      <td>25400.000000</td>\n",
       "    </tr>\n",
       "    <tr>\n",
       "      <th>mean</th>\n",
       "      <td>69.981339</td>\n",
       "      <td>0.128773</td>\n",
       "      <td>15.625906</td>\n",
       "      <td>4.012667</td>\n",
       "      <td>0.286246</td>\n",
       "    </tr>\n",
       "    <tr>\n",
       "      <th>std</th>\n",
       "      <td>125.826486</td>\n",
       "      <td>0.205553</td>\n",
       "      <td>10.524928</td>\n",
       "      <td>32.558120</td>\n",
       "      <td>1.333106</td>\n",
       "    </tr>\n",
       "    <tr>\n",
       "      <th>min</th>\n",
       "      <td>2.000000</td>\n",
       "      <td>0.000000</td>\n",
       "      <td>0.000000</td>\n",
       "      <td>0.000000</td>\n",
       "      <td>0.000000</td>\n",
       "    </tr>\n",
       "    <tr>\n",
       "      <th>25%</th>\n",
       "      <td>9.000000</td>\n",
       "      <td>0.000000</td>\n",
       "      <td>10.000000</td>\n",
       "      <td>0.971267</td>\n",
       "      <td>0.000000</td>\n",
       "    </tr>\n",
       "    <tr>\n",
       "      <th>50%</th>\n",
       "      <td>24.000000</td>\n",
       "      <td>0.046000</td>\n",
       "      <td>13.000000</td>\n",
       "      <td>1.042808</td>\n",
       "      <td>0.106250</td>\n",
       "    </tr>\n",
       "    <tr>\n",
       "      <th>75%</th>\n",
       "      <td>78.000000</td>\n",
       "      <td>0.160000</td>\n",
       "      <td>17.000000</td>\n",
       "      <td>2.000000</td>\n",
       "      <td>0.252083</td>\n",
       "    </tr>\n",
       "    <tr>\n",
       "      <th>max</th>\n",
       "      <td>1819.000000</td>\n",
       "      <td>1.000000</td>\n",
       "      <td>75.000000</td>\n",
       "      <td>967.000000</td>\n",
       "      <td>24.444318</td>\n",
       "    </tr>\n",
       "  </tbody>\n",
       "</table>\n",
       "</div>"
      ],
      "text/plain": [
       "        TRIPS_COUNT  AVG_SERVICED      MAX_LOAD  AVG_PASSENGER_MILES  \\\n",
       "count  25400.000000  25400.000000  25400.000000         25400.000000   \n",
       "mean      69.981339      0.128773     15.625906             4.012667   \n",
       "std      125.826486      0.205553     10.524928            32.558120   \n",
       "min        2.000000      0.000000      0.000000             0.000000   \n",
       "25%        9.000000      0.000000     10.000000             0.971267   \n",
       "50%       24.000000      0.046000     13.000000             1.042808   \n",
       "75%       78.000000      0.160000     17.000000             2.000000   \n",
       "max     1819.000000      1.000000     75.000000           967.000000   \n",
       "\n",
       "       AVG_SEGMENT_MILES  \n",
       "count       25400.000000  \n",
       "mean            0.286246  \n",
       "std             1.333106  \n",
       "min             0.000000  \n",
       "25%             0.000000  \n",
       "50%             0.106250  \n",
       "75%             0.252083  \n",
       "max            24.444318  "
      ]
     },
     "execution_count": 7,
     "metadata": {},
     "output_type": "execute_result"
    }
   ],
   "source": [
    "GRTC_Ridership_df.describe()"
   ]
  },
  {
   "cell_type": "code",
   "execution_count": 35,
   "metadata": {},
   "outputs": [],
   "source": []
  },
  {
   "cell_type": "code",
   "execution_count": 8,
   "metadata": {},
   "outputs": [
    {
     "data": {
      "text/html": [
       "<div>\n",
       "<style scoped>\n",
       "    .dataframe tbody tr th:only-of-type {\n",
       "        vertical-align: middle;\n",
       "    }\n",
       "\n",
       "    .dataframe tbody tr th {\n",
       "        vertical-align: top;\n",
       "    }\n",
       "\n",
       "    .dataframe thead th {\n",
       "        text-align: right;\n",
       "    }\n",
       "</style>\n",
       "<table border=\"1\" class=\"dataframe\">\n",
       "  <thead>\n",
       "    <tr style=\"text-align: right;\">\n",
       "      <th></th>\n",
       "      <th>AVG_SEGMENT_MILES</th>\n",
       "    </tr>\n",
       "    <tr>\n",
       "      <th>SERVICE_TYPE</th>\n",
       "      <th></th>\n",
       "    </tr>\n",
       "  </thead>\n",
       "  <tbody>\n",
       "    <tr>\n",
       "      <th>Express</th>\n",
       "      <td>0.666177</td>\n",
       "    </tr>\n",
       "    <tr>\n",
       "      <th>Local</th>\n",
       "      <td>0.182601</td>\n",
       "    </tr>\n",
       "  </tbody>\n",
       "</table>\n",
       "</div>"
      ],
      "text/plain": [
       "              AVG_SEGMENT_MILES\n",
       "SERVICE_TYPE                   \n",
       "Express                0.666177\n",
       "Local                  0.182601"
      ]
     },
     "execution_count": 8,
     "metadata": {},
     "output_type": "execute_result"
    }
   ],
   "source": [
    "Grouped_Avg_Seg_Mi_by_Service_type_df = GRTC_Ridership_df.groupby(['SERVICE_TYPE'])[['AVG_SEGMENT_MILES']].mean()\n",
    "Grouped_Avg_Seg_Mi_by_Service_type_df"
   ]
  },
  {
   "cell_type": "code",
   "execution_count": 9,
   "metadata": {},
   "outputs": [
    {
     "data": {
      "text/html": [
       "<div>\n",
       "<style scoped>\n",
       "    .dataframe tbody tr th:only-of-type {\n",
       "        vertical-align: middle;\n",
       "    }\n",
       "\n",
       "    .dataframe tbody tr th {\n",
       "        vertical-align: top;\n",
       "    }\n",
       "\n",
       "    .dataframe thead th {\n",
       "        text-align: right;\n",
       "    }\n",
       "</style>\n",
       "<table border=\"1\" class=\"dataframe\">\n",
       "  <thead>\n",
       "    <tr style=\"text-align: right;\">\n",
       "      <th></th>\n",
       "      <th>AVG_PASSENGER_MILES</th>\n",
       "    </tr>\n",
       "    <tr>\n",
       "      <th>SERVICE_TYPE</th>\n",
       "      <th></th>\n",
       "    </tr>\n",
       "  </thead>\n",
       "  <tbody>\n",
       "    <tr>\n",
       "      <th>Express</th>\n",
       "      <td>12.239900</td>\n",
       "    </tr>\n",
       "    <tr>\n",
       "      <th>Local</th>\n",
       "      <td>1.768276</td>\n",
       "    </tr>\n",
       "  </tbody>\n",
       "</table>\n",
       "</div>"
      ],
      "text/plain": [
       "              AVG_PASSENGER_MILES\n",
       "SERVICE_TYPE                     \n",
       "Express                 12.239900\n",
       "Local                    1.768276"
      ]
     },
     "execution_count": 9,
     "metadata": {},
     "output_type": "execute_result"
    }
   ],
   "source": [
    "Grouped_Avg_Pass_Mi_by_Service_type_df = GRTC_Ridership_df.groupby(['SERVICE_TYPE'])[['AVG_PASSENGER_MILES']].mean()\n",
    "Grouped_Avg_Pass_Mi_by_Service_type_df"
   ]
  },
  {
   "cell_type": "code",
   "execution_count": 10,
   "metadata": {},
   "outputs": [
    {
     "data": {
      "text/html": [
       "<div>\n",
       "<style scoped>\n",
       "    .dataframe tbody tr th:only-of-type {\n",
       "        vertical-align: middle;\n",
       "    }\n",
       "\n",
       "    .dataframe tbody tr th {\n",
       "        vertical-align: top;\n",
       "    }\n",
       "\n",
       "    .dataframe thead th {\n",
       "        text-align: right;\n",
       "    }\n",
       "</style>\n",
       "<table border=\"1\" class=\"dataframe\">\n",
       "  <thead>\n",
       "    <tr style=\"text-align: right;\">\n",
       "      <th></th>\n",
       "      <th>AVG_SERVICED</th>\n",
       "    </tr>\n",
       "    <tr>\n",
       "      <th>SERVICE_TYPE</th>\n",
       "      <th></th>\n",
       "    </tr>\n",
       "  </thead>\n",
       "  <tbody>\n",
       "    <tr>\n",
       "      <th>Express</th>\n",
       "      <td>0.110021</td>\n",
       "    </tr>\n",
       "    <tr>\n",
       "      <th>Local</th>\n",
       "      <td>0.133888</td>\n",
       "    </tr>\n",
       "  </tbody>\n",
       "</table>\n",
       "</div>"
      ],
      "text/plain": [
       "              AVG_SERVICED\n",
       "SERVICE_TYPE              \n",
       "Express           0.110021\n",
       "Local             0.133888"
      ]
     },
     "execution_count": 10,
     "metadata": {},
     "output_type": "execute_result"
    }
   ],
   "source": [
    "Grouped_Avg_Serviced_by_Service_type_df = GRTC_Ridership_df.groupby(['SERVICE_TYPE'])[['AVG_SERVICED']].mean()\n",
    "Grouped_Avg_Serviced_by_Service_type_df "
   ]
  },
  {
   "cell_type": "code",
   "execution_count": 11,
   "metadata": {},
   "outputs": [
    {
     "data": {
      "text/html": [
       "<div>\n",
       "<style scoped>\n",
       "    .dataframe tbody tr th:only-of-type {\n",
       "        vertical-align: middle;\n",
       "    }\n",
       "\n",
       "    .dataframe tbody tr th {\n",
       "        vertical-align: top;\n",
       "    }\n",
       "\n",
       "    .dataframe thead th {\n",
       "        text-align: right;\n",
       "    }\n",
       "</style>\n",
       "<table border=\"1\" class=\"dataframe\">\n",
       "  <thead>\n",
       "    <tr style=\"text-align: right;\">\n",
       "      <th></th>\n",
       "      <th>MAX_LOAD</th>\n",
       "    </tr>\n",
       "    <tr>\n",
       "      <th>SERVICE_TYPE</th>\n",
       "      <th></th>\n",
       "    </tr>\n",
       "  </thead>\n",
       "  <tbody>\n",
       "    <tr>\n",
       "      <th>Express</th>\n",
       "      <td>22.025716</td>\n",
       "    </tr>\n",
       "    <tr>\n",
       "      <th>Local</th>\n",
       "      <td>13.880036</td>\n",
       "    </tr>\n",
       "  </tbody>\n",
       "</table>\n",
       "</div>"
      ],
      "text/plain": [
       "               MAX_LOAD\n",
       "SERVICE_TYPE           \n",
       "Express       22.025716\n",
       "Local         13.880036"
      ]
     },
     "execution_count": 11,
     "metadata": {},
     "output_type": "execute_result"
    }
   ],
   "source": [
    "Grouped_Max_Load_by_Service_type_df = GRTC_Ridership_df.groupby(['SERVICE_TYPE'])[['MAX_LOAD']].mean()\n",
    "Grouped_Max_Load_by_Service_type_df"
   ]
  },
  {
   "cell_type": "code",
   "execution_count": 12,
   "metadata": {},
   "outputs": [
    {
     "data": {
      "text/html": [
       "<div>\n",
       "<style scoped>\n",
       "    .dataframe tbody tr th:only-of-type {\n",
       "        vertical-align: middle;\n",
       "    }\n",
       "\n",
       "    .dataframe tbody tr th {\n",
       "        vertical-align: top;\n",
       "    }\n",
       "\n",
       "    .dataframe thead th {\n",
       "        text-align: right;\n",
       "    }\n",
       "</style>\n",
       "<table border=\"1\" class=\"dataframe\">\n",
       "  <thead>\n",
       "    <tr style=\"text-align: right;\">\n",
       "      <th></th>\n",
       "      <th>TRIPS_COUNT</th>\n",
       "    </tr>\n",
       "    <tr>\n",
       "      <th>SERVICE_TYPE</th>\n",
       "      <th></th>\n",
       "    </tr>\n",
       "  </thead>\n",
       "  <tbody>\n",
       "    <tr>\n",
       "      <th>Express</th>\n",
       "      <td>67.698016</td>\n",
       "    </tr>\n",
       "    <tr>\n",
       "      <th>Local</th>\n",
       "      <td>70.604229</td>\n",
       "    </tr>\n",
       "  </tbody>\n",
       "</table>\n",
       "</div>"
      ],
      "text/plain": [
       "              TRIPS_COUNT\n",
       "SERVICE_TYPE             \n",
       "Express         67.698016\n",
       "Local           70.604229"
      ]
     },
     "execution_count": 12,
     "metadata": {},
     "output_type": "execute_result"
    }
   ],
   "source": [
    "Grouped_Trips_Count_by_Service_type_df = GRTC_Ridership_df.groupby(['SERVICE_TYPE'])[['TRIPS_COUNT']].mean()\n",
    "Grouped_Trips_Count_by_Service_type_df"
   ]
  },
  {
   "cell_type": "code",
   "execution_count": 30,
   "metadata": {},
   "outputs": [
    {
     "data": {
      "text/plain": [
       "<function matplotlib.pyplot.show(*args, **kw)>"
      ]
     },
     "execution_count": 30,
     "metadata": {},
     "output_type": "execute_result"
    },
    {
     "data": {
      "image/png": "[encoded data removed]",
      "text/plain": [
       "<Figure size 1440x1080 with 6 Axes>"
      ]
     },
     "metadata": {
      "needs_background": "light"
     },
     "output_type": "display_data"
    }
   ],
   "source": [
    "GRTC_Ridership_df.hist(bins=25, figsize=(20,15))\n",
    "plt.show "
   ]
  },
  {
   "cell_type": "markdown",
   "metadata": {},
   "source": [
    "## Supervised Machine Learning for Predicting Classes - Classification\n"
   ]
  },
  {
   "cell_type": "code",
   "execution_count": null,
   "metadata": {},
   "outputs": [],
   "source": []
  },
  {
   "cell_type": "code",
   "execution_count": null,
   "metadata": {},
   "outputs": [],
   "source": []
  },
  {
   "cell_type": "markdown",
   "metadata": {},
   "source": [
    "### Logistics Regression"
   ]
  },
  {
   "cell_type": "code",
   "execution_count": 14,
   "metadata": {},
   "outputs": [
    {
     "name": "stdout",
     "output_type": "stream",
     "text": [
      "(25400, 5) (25400,)\n"
     ]
    }
   ],
   "source": [
    "# Assign X (data) and y (target)\n",
    "X = GRTC_Ridership_df.drop(\"SERVICE_TYPE\", axis=1)\n",
    "y = GRTC_Ridership_df[\"SERVICE_TYPE\"]\n",
    "print(X.shape, y.shape)"
   ]
  },
  {
   "cell_type": "code",
   "execution_count": 15,
   "metadata": {},
   "outputs": [],
   "source": [
    "# Split data inot training and testing\n",
    "from sklearn.model_selection import train_test_split\n",
    "\n",
    "X_train, X_test, y_train, y_test = train_test_split(X, y, random_state=5, stratify=y)"
   ]
  },
  {
   "cell_type": "code",
   "execution_count": 16,
   "metadata": {},
   "outputs": [
    {
     "data": {
      "text/plain": [
       "LogisticRegression(C=1.0, class_weight=None, dual=False, fit_intercept=True,\n",
       "                   intercept_scaling=1, l1_ratio=None, max_iter=100,\n",
       "                   multi_class='warn', n_jobs=None, penalty='l2',\n",
       "                   random_state=None, solver='warn', tol=0.0001, verbose=0,\n",
       "                   warm_start=False)"
      ]
     },
     "execution_count": 16,
     "metadata": {},
     "output_type": "execute_result"
    }
   ],
   "source": [
    "# Create a Logistics Regression Model\n",
    "from sklearn.linear_model import LogisticRegression\n",
    "classifier = LogisticRegression()\n",
    "classifier"
   ]
  },
  {
   "cell_type": "code",
   "execution_count": 17,
   "metadata": {},
   "outputs": [
    {
     "data": {
      "text/plain": [
       "LogisticRegression(C=1.0, class_weight=None, dual=False, fit_intercept=True,\n",
       "                   intercept_scaling=1, l1_ratio=None, max_iter=100,\n",
       "                   multi_class='warn', n_jobs=None, penalty='l2',\n",
       "                   random_state=None, solver='warn', tol=0.0001, verbose=0,\n",
       "                   warm_start=False)"
      ]
     },
     "execution_count": 17,
     "metadata": {},
     "output_type": "execute_result"
    }
   ],
   "source": [
    "classifier.fit(X_train, y_train)"
   ]
  },
  {
   "cell_type": "code",
   "execution_count": 18,
   "metadata": {},
   "outputs": [
    {
     "name": "stdout",
     "output_type": "stream",
     "text": [
      "Training Data Score: 0.8186351706036745\n",
      "Testing Data Score: 0.8198425196850394\n"
     ]
    }
   ],
   "source": [
    "print(f\"Training Data Score: {classifier.score(X_train, y_train)}\")\n",
    "print(f\"Testing Data Score: {classifier.score(X_test, y_test)}\")"
   ]
  },
  {
   "cell_type": "code",
   "execution_count": 19,
   "metadata": {},
   "outputs": [
    {
     "name": "stdout",
     "output_type": "stream",
     "text": [
      "First 10 Predictions: ['Local' 'Express' 'Local' 'Local' 'Local' 'Local' 'Local' 'Local' 'Local'\n",
      " 'Local']\n",
      "First 10 Actual labels: ['Express', 'Local', 'Express', 'Express', 'Local', 'Express', 'Express', 'Local', 'Local', 'Local']\n"
     ]
    }
   ],
   "source": [
    "# Make predictions\n",
    "predictions = classifier.predict(X_test)\n",
    "print(f\"First 10 Predictions: {predictions[:10]}\")\n",
    "print(f\"First 10 Actual labels: {y_test[:10].tolist()}\")"
   ]
  },
  {
   "cell_type": "code",
   "execution_count": 20,
   "metadata": {},
   "outputs": [
    {
     "data": {
      "text/html": [
       "<div>\n",
       "<style scoped>\n",
       "    .dataframe tbody tr th:only-of-type {\n",
       "        vertical-align: middle;\n",
       "    }\n",
       "\n",
       "    .dataframe tbody tr th {\n",
       "        vertical-align: top;\n",
       "    }\n",
       "\n",
       "    .dataframe thead th {\n",
       "        text-align: right;\n",
       "    }\n",
       "</style>\n",
       "<table border=\"1\" class=\"dataframe\">\n",
       "  <thead>\n",
       "    <tr style=\"text-align: right;\">\n",
       "      <th></th>\n",
       "      <th>Prediction</th>\n",
       "      <th>Actual</th>\n",
       "    </tr>\n",
       "  </thead>\n",
       "  <tbody>\n",
       "    <tr>\n",
       "      <th>0</th>\n",
       "      <td>Local</td>\n",
       "      <td>Express</td>\n",
       "    </tr>\n",
       "    <tr>\n",
       "      <th>1</th>\n",
       "      <td>Express</td>\n",
       "      <td>Local</td>\n",
       "    </tr>\n",
       "    <tr>\n",
       "      <th>2</th>\n",
       "      <td>Local</td>\n",
       "      <td>Express</td>\n",
       "    </tr>\n",
       "    <tr>\n",
       "      <th>3</th>\n",
       "      <td>Local</td>\n",
       "      <td>Express</td>\n",
       "    </tr>\n",
       "    <tr>\n",
       "      <th>4</th>\n",
       "      <td>Local</td>\n",
       "      <td>Local</td>\n",
       "    </tr>\n",
       "    <tr>\n",
       "      <th>5</th>\n",
       "      <td>Local</td>\n",
       "      <td>Express</td>\n",
       "    </tr>\n",
       "    <tr>\n",
       "      <th>6</th>\n",
       "      <td>Local</td>\n",
       "      <td>Express</td>\n",
       "    </tr>\n",
       "    <tr>\n",
       "      <th>7</th>\n",
       "      <td>Local</td>\n",
       "      <td>Local</td>\n",
       "    </tr>\n",
       "    <tr>\n",
       "      <th>8</th>\n",
       "      <td>Local</td>\n",
       "      <td>Local</td>\n",
       "    </tr>\n",
       "    <tr>\n",
       "      <th>9</th>\n",
       "      <td>Local</td>\n",
       "      <td>Local</td>\n",
       "    </tr>\n",
       "    <tr>\n",
       "      <th>10</th>\n",
       "      <td>Local</td>\n",
       "      <td>Local</td>\n",
       "    </tr>\n",
       "    <tr>\n",
       "      <th>11</th>\n",
       "      <td>Local</td>\n",
       "      <td>Express</td>\n",
       "    </tr>\n",
       "    <tr>\n",
       "      <th>12</th>\n",
       "      <td>Local</td>\n",
       "      <td>Local</td>\n",
       "    </tr>\n",
       "    <tr>\n",
       "      <th>13</th>\n",
       "      <td>Local</td>\n",
       "      <td>Local</td>\n",
       "    </tr>\n",
       "    <tr>\n",
       "      <th>14</th>\n",
       "      <td>Local</td>\n",
       "      <td>Local</td>\n",
       "    </tr>\n",
       "    <tr>\n",
       "      <th>15</th>\n",
       "      <td>Express</td>\n",
       "      <td>Local</td>\n",
       "    </tr>\n",
       "    <tr>\n",
       "      <th>16</th>\n",
       "      <td>Local</td>\n",
       "      <td>Local</td>\n",
       "    </tr>\n",
       "    <tr>\n",
       "      <th>17</th>\n",
       "      <td>Local</td>\n",
       "      <td>Local</td>\n",
       "    </tr>\n",
       "    <tr>\n",
       "      <th>18</th>\n",
       "      <td>Local</td>\n",
       "      <td>Local</td>\n",
       "    </tr>\n",
       "    <tr>\n",
       "      <th>19</th>\n",
       "      <td>Local</td>\n",
       "      <td>Local</td>\n",
       "    </tr>\n",
       "    <tr>\n",
       "      <th>20</th>\n",
       "      <td>Local</td>\n",
       "      <td>Local</td>\n",
       "    </tr>\n",
       "    <tr>\n",
       "      <th>21</th>\n",
       "      <td>Local</td>\n",
       "      <td>Local</td>\n",
       "    </tr>\n",
       "    <tr>\n",
       "      <th>22</th>\n",
       "      <td>Local</td>\n",
       "      <td>Local</td>\n",
       "    </tr>\n",
       "    <tr>\n",
       "      <th>23</th>\n",
       "      <td>Local</td>\n",
       "      <td>Local</td>\n",
       "    </tr>\n",
       "    <tr>\n",
       "      <th>24</th>\n",
       "      <td>Local</td>\n",
       "      <td>Local</td>\n",
       "    </tr>\n",
       "    <tr>\n",
       "      <th>25</th>\n",
       "      <td>Local</td>\n",
       "      <td>Local</td>\n",
       "    </tr>\n",
       "    <tr>\n",
       "      <th>26</th>\n",
       "      <td>Express</td>\n",
       "      <td>Express</td>\n",
       "    </tr>\n",
       "    <tr>\n",
       "      <th>27</th>\n",
       "      <td>Local</td>\n",
       "      <td>Local</td>\n",
       "    </tr>\n",
       "    <tr>\n",
       "      <th>28</th>\n",
       "      <td>Express</td>\n",
       "      <td>Express</td>\n",
       "    </tr>\n",
       "    <tr>\n",
       "      <th>29</th>\n",
       "      <td>Local</td>\n",
       "      <td>Local</td>\n",
       "    </tr>\n",
       "    <tr>\n",
       "      <th>...</th>\n",
       "      <td>...</td>\n",
       "      <td>...</td>\n",
       "    </tr>\n",
       "    <tr>\n",
       "      <th>6320</th>\n",
       "      <td>Local</td>\n",
       "      <td>Express</td>\n",
       "    </tr>\n",
       "    <tr>\n",
       "      <th>6321</th>\n",
       "      <td>Local</td>\n",
       "      <td>Local</td>\n",
       "    </tr>\n",
       "    <tr>\n",
       "      <th>6322</th>\n",
       "      <td>Local</td>\n",
       "      <td>Local</td>\n",
       "    </tr>\n",
       "    <tr>\n",
       "      <th>6323</th>\n",
       "      <td>Local</td>\n",
       "      <td>Local</td>\n",
       "    </tr>\n",
       "    <tr>\n",
       "      <th>6324</th>\n",
       "      <td>Local</td>\n",
       "      <td>Local</td>\n",
       "    </tr>\n",
       "    <tr>\n",
       "      <th>6325</th>\n",
       "      <td>Local</td>\n",
       "      <td>Local</td>\n",
       "    </tr>\n",
       "    <tr>\n",
       "      <th>6326</th>\n",
       "      <td>Express</td>\n",
       "      <td>Express</td>\n",
       "    </tr>\n",
       "    <tr>\n",
       "      <th>6327</th>\n",
       "      <td>Local</td>\n",
       "      <td>Local</td>\n",
       "    </tr>\n",
       "    <tr>\n",
       "      <th>6328</th>\n",
       "      <td>Local</td>\n",
       "      <td>Local</td>\n",
       "    </tr>\n",
       "    <tr>\n",
       "      <th>6329</th>\n",
       "      <td>Local</td>\n",
       "      <td>Local</td>\n",
       "    </tr>\n",
       "    <tr>\n",
       "      <th>6330</th>\n",
       "      <td>Local</td>\n",
       "      <td>Local</td>\n",
       "    </tr>\n",
       "    <tr>\n",
       "      <th>6331</th>\n",
       "      <td>Express</td>\n",
       "      <td>Express</td>\n",
       "    </tr>\n",
       "    <tr>\n",
       "      <th>6332</th>\n",
       "      <td>Local</td>\n",
       "      <td>Local</td>\n",
       "    </tr>\n",
       "    <tr>\n",
       "      <th>6333</th>\n",
       "      <td>Local</td>\n",
       "      <td>Local</td>\n",
       "    </tr>\n",
       "    <tr>\n",
       "      <th>6334</th>\n",
       "      <td>Local</td>\n",
       "      <td>Local</td>\n",
       "    </tr>\n",
       "    <tr>\n",
       "      <th>6335</th>\n",
       "      <td>Local</td>\n",
       "      <td>Local</td>\n",
       "    </tr>\n",
       "    <tr>\n",
       "      <th>6336</th>\n",
       "      <td>Local</td>\n",
       "      <td>Express</td>\n",
       "    </tr>\n",
       "    <tr>\n",
       "      <th>6337</th>\n",
       "      <td>Local</td>\n",
       "      <td>Local</td>\n",
       "    </tr>\n",
       "    <tr>\n",
       "      <th>6338</th>\n",
       "      <td>Local</td>\n",
       "      <td>Local</td>\n",
       "    </tr>\n",
       "    <tr>\n",
       "      <th>6339</th>\n",
       "      <td>Express</td>\n",
       "      <td>Express</td>\n",
       "    </tr>\n",
       "    <tr>\n",
       "      <th>6340</th>\n",
       "      <td>Local</td>\n",
       "      <td>Express</td>\n",
       "    </tr>\n",
       "    <tr>\n",
       "      <th>6341</th>\n",
       "      <td>Local</td>\n",
       "      <td>Express</td>\n",
       "    </tr>\n",
       "    <tr>\n",
       "      <th>6342</th>\n",
       "      <td>Local</td>\n",
       "      <td>Local</td>\n",
       "    </tr>\n",
       "    <tr>\n",
       "      <th>6343</th>\n",
       "      <td>Local</td>\n",
       "      <td>Local</td>\n",
       "    </tr>\n",
       "    <tr>\n",
       "      <th>6344</th>\n",
       "      <td>Local</td>\n",
       "      <td>Express</td>\n",
       "    </tr>\n",
       "    <tr>\n",
       "      <th>6345</th>\n",
       "      <td>Express</td>\n",
       "      <td>Express</td>\n",
       "    </tr>\n",
       "    <tr>\n",
       "      <th>6346</th>\n",
       "      <td>Local</td>\n",
       "      <td>Local</td>\n",
       "    </tr>\n",
       "    <tr>\n",
       "      <th>6347</th>\n",
       "      <td>Local</td>\n",
       "      <td>Express</td>\n",
       "    </tr>\n",
       "    <tr>\n",
       "      <th>6348</th>\n",
       "      <td>Local</td>\n",
       "      <td>Local</td>\n",
       "    </tr>\n",
       "    <tr>\n",
       "      <th>6349</th>\n",
       "      <td>Local</td>\n",
       "      <td>Local</td>\n",
       "    </tr>\n",
       "  </tbody>\n",
       "</table>\n",
       "<p>6350 rows × 2 columns</p>\n",
       "</div>"
      ],
      "text/plain": [
       "     Prediction   Actual\n",
       "0         Local  Express\n",
       "1       Express    Local\n",
       "2         Local  Express\n",
       "3         Local  Express\n",
       "4         Local    Local\n",
       "5         Local  Express\n",
       "6         Local  Express\n",
       "7         Local    Local\n",
       "8         Local    Local\n",
       "9         Local    Local\n",
       "10        Local    Local\n",
       "11        Local  Express\n",
       "12        Local    Local\n",
       "13        Local    Local\n",
       "14        Local    Local\n",
       "15      Express    Local\n",
       "16        Local    Local\n",
       "17        Local    Local\n",
       "18        Local    Local\n",
       "19        Local    Local\n",
       "20        Local    Local\n",
       "21        Local    Local\n",
       "22        Local    Local\n",
       "23        Local    Local\n",
       "24        Local    Local\n",
       "25        Local    Local\n",
       "26      Express  Express\n",
       "27        Local    Local\n",
       "28      Express  Express\n",
       "29        Local    Local\n",
       "...         ...      ...\n",
       "6320      Local  Express\n",
       "6321      Local    Local\n",
       "6322      Local    Local\n",
       "6323      Local    Local\n",
       "6324      Local    Local\n",
       "6325      Local    Local\n",
       "6326    Express  Express\n",
       "6327      Local    Local\n",
       "6328      Local    Local\n",
       "6329      Local    Local\n",
       "6330      Local    Local\n",
       "6331    Express  Express\n",
       "6332      Local    Local\n",
       "6333      Local    Local\n",
       "6334      Local    Local\n",
       "6335      Local    Local\n",
       "6336      Local  Express\n",
       "6337      Local    Local\n",
       "6338      Local    Local\n",
       "6339    Express  Express\n",
       "6340      Local  Express\n",
       "6341      Local  Express\n",
       "6342      Local    Local\n",
       "6343      Local    Local\n",
       "6344      Local  Express\n",
       "6345    Express  Express\n",
       "6346      Local    Local\n",
       "6347      Local  Express\n",
       "6348      Local    Local\n",
       "6349      Local    Local\n",
       "\n",
       "[6350 rows x 2 columns]"
      ]
     },
     "execution_count": 20,
     "metadata": {},
     "output_type": "execute_result"
    }
   ],
   "source": [
    "pd.DataFrame({\"Prediction\": predictions, \"Actual\": y_test}).reset_index(drop=True)"
   ]
  },
  {
   "cell_type": "markdown",
   "metadata": {},
   "source": [
    "### K Nearest Neighbors (KNN)"
   ]
  },
  {
   "cell_type": "code",
   "execution_count": 21,
   "metadata": {},
   "outputs": [],
   "source": [
    "# Dependencies\n",
    "from sklearn.neighbors import KNeighborsClassifier"
   ]
  },
  {
   "cell_type": "code",
   "execution_count": 25,
   "metadata": {},
   "outputs": [],
   "source": [
    "from sklearn.preprocessing import StandardScaler\n",
    "\n",
    "# Create a StandardScater model and fit it to the training data\n",
    "\n",
    "X_scaler = StandardScaler().fit(X_train.values.reshape(-1, 1))"
   ]
  },
  {
   "cell_type": "code",
   "execution_count": 26,
   "metadata": {},
   "outputs": [],
   "source": [
    "# Transform the training and testing data using the X_scaler and y_scaler models\n",
    "\n",
    "X_train_scaled = X_scaler.transform(X_train)\n",
    "X_test_scaled = X_scaler.transform(X_test)"
   ]
  },
  {
   "cell_type": "code",
   "execution_count": 33,
   "metadata": {},
   "outputs": [
    {
     "name": "stdout",
     "output_type": "stream",
     "text": [
      "k: 1, Train/Test Score: 0.988/0.966\n",
      "k: 3, Train/Test Score: 0.981/0.957\n",
      "k: 5, Train/Test Score: 0.970/0.955\n",
      "k: 7, Train/Test Score: 0.964/0.948\n",
      "k: 9, Train/Test Score: 0.958/0.946\n",
      "k: 11, Train/Test Score: 0.955/0.944\n",
      "k: 13, Train/Test Score: 0.950/0.940\n",
      "k: 15, Train/Test Score: 0.947/0.939\n",
      "k: 17, Train/Test Score: 0.944/0.939\n",
      "k: 19, Train/Test Score: 0.941/0.938\n",
      "k: 21, Train/Test Score: 0.938/0.935\n",
      "k: 23, Train/Test Score: 0.936/0.933\n",
      "k: 25, Train/Test Score: 0.934/0.932\n",
      "k: 27, Train/Test Score: 0.931/0.930\n",
      "k: 29, Train/Test Score: 0.926/0.926\n",
      "k: 31, Train/Test Score: 0.925/0.924\n",
      "k: 33, Train/Test Score: 0.923/0.922\n"
     ]
    },
    {
     "data": {
      "image/png": "[encoded data removed]",
      "text/plain": [
       "<Figure size 432x288 with 1 Axes>"
      ]
     },
     "metadata": {
      "needs_background": "light"
     },
     "output_type": "display_data"
    }
   ],
   "source": [
    "# Loop through different k values to see which has the highest accuracy\n",
    "# Note: We only use odd numbers because we don't want any ties\n",
    "train_scores = []\n",
    "test_scores = []\n",
    "for k in range(1, 35, 2):\n",
    "    knn = KNeighborsClassifier(n_neighbors=k)\n",
    "    knn.fit(X_train_scaled, y_train)\n",
    "    train_score = knn.score(X_train_scaled, y_train)\n",
    "    test_score = knn.score(X_test_scaled, y_test)\n",
    "    train_scores.append(train_score)\n",
    "    test_scores.append(test_score)\n",
    "    print(f\"k: {k}, Train/Test Score: {train_score:.3f}/{test_score:.3f}\")\n",
    "    \n",
    "    \n",
    "plt.plot(range(1, 35, 2), train_scores, marker='o')\n",
    "plt.plot(range(1, 35, 2), test_scores, marker=\"x\")\n",
    "plt.xlabel(\"k neighbors\")\n",
    "plt.ylabel(\"Testing accuracy Score\")\n",
    "plt.show()"
   ]
  },
  {
   "cell_type": "code",
   "execution_count": 38,
   "metadata": {},
   "outputs": [
    {
     "name": "stdout",
     "output_type": "stream",
     "text": [
      "k=23 Test Acc: 0.933\n"
     ]
    }
   ],
   "source": [
    "# Note that k:27 provides the best accuracy where the classifier starts to stablize\n",
    "knn = KNeighborsClassifier(n_neighbors=23)\n",
    "knn.fit(X_train_scaled, y_train)\n",
    "print('k=23 Test Acc: %.3f' % knn.score(X_test_scaled, y_test))"
   ]
  },
  {
   "cell_type": "code",
   "execution_count": 39,
   "metadata": {},
   "outputs": [
    {
     "name": "stdout",
     "output_type": "stream",
     "text": [
      "['Local']\n"
     ]
    }
   ],
   "source": [
    "new_route_data = [[69, .15, 10, 5, .25]]\n",
    "predicted_class = knn.predict(new_route_data)\n",
    "print(predicted_class)"
   ]
  },
  {
   "cell_type": "markdown",
   "metadata": {},
   "source": [
    "### Support Vector Machine (SVM)"
   ]
  },
  {
   "cell_type": "code",
   "execution_count": 41,
   "metadata": {},
   "outputs": [],
   "source": [
    "# Using the same X and y data from above refine for use with SVM\n",
    "target = GRTC_Ridership_df[\"SERVICE_TYPE\"]\n",
    "target_names = [\"local\", \"express\"]"
   ]
  },
  {
   "cell_type": "code",
   "execution_count": 42,
   "metadata": {},
   "outputs": [
    {
     "data": {
      "text/plain": [
       "SVC(C=1.0, cache_size=200, class_weight=None, coef0=0.0,\n",
       "    decision_function_shape='ovr', degree=3, gamma='auto_deprecated',\n",
       "    kernel='linear', max_iter=-1, probability=False, random_state=None,\n",
       "    shrinking=True, tol=0.001, verbose=False)"
      ]
     },
     "execution_count": 42,
     "metadata": {},
     "output_type": "execute_result"
    }
   ],
   "source": [
    "# Support vector machine linear classifier\n",
    "from sklearn.svm import SVC \n",
    "model = SVC(kernel='linear')\n",
    "model.fit(X_train, y_train)"
   ]
  },
  {
   "cell_type": "code",
   "execution_count": 43,
   "metadata": {},
   "outputs": [],
   "source": [
    "model = SVC(kernel='linear')\n",
    "model.fit(X_train, y_train)\n",
    "predictions = model.predict(X_test)"
   ]
  },
  {
   "cell_type": "code",
   "execution_count": 44,
   "metadata": {},
   "outputs": [
    {
     "name": "stdout",
     "output_type": "stream",
     "text": [
      "Test Acc: 0.808\n"
     ]
    }
   ],
   "source": [
    "# Model Accuracy\n",
    "print('Test Acc: %.3f' % model.score(X_test, y_test))"
   ]
  },
  {
   "cell_type": "code",
   "execution_count": 45,
   "metadata": {},
   "outputs": [
    {
     "name": "stdout",
     "output_type": "stream",
     "text": [
      "              precision    recall  f1-score   support\n",
      "\n",
      "       local       0.94      0.11      0.20      1361\n",
      "     express       0.80      1.00      0.89      4989\n",
      "\n",
      "    accuracy                           0.81      6350\n",
      "   macro avg       0.87      0.55      0.54      6350\n",
      "weighted avg       0.83      0.81      0.74      6350\n",
      "\n"
     ]
    }
   ],
   "source": [
    "# Calculate classification report\n",
    "from sklearn.metrics import classification_report\n",
    "print(classification_report(y_test, predictions,\n",
    "                            target_names=[\"local\", \"express\"]))"
   ]
  },
  {
   "cell_type": "code",
   "execution_count": null,
   "metadata": {},
   "outputs": [],
   "source": []
  }
 ],
 "metadata": {
  "kernelspec": {
   "display_name": "Python 3",
   "language": "python",
   "name": "python3"
  },
  "language_info": {
   "codemirror_mode": {
    "name": "ipython",
    "version": 3
   },
   "file_extension": ".py",
   "mimetype": "text/x-python",
   "name": "python",
   "nbconvert_exporter": "python",
   "pygments_lexer": "ipython3",
   "version": "3.7.3"
  },
  "toc": {
   "base_numbering": 1,
   "nav_menu": {},
   "number_sections": true,
   "sideBar": true,
   "skip_h1_title": false,
   "title_cell": "Table of Contents",
   "title_sidebar": "Contents",
   "toc_cell": false,
   "toc_position": {},
   "toc_section_display": true,
   "toc_window_display": false
  },
  "varInspector": {
   "cols": {
    "lenName": 16,
    "lenType": 16,
    "lenVar": 40
   },
   "kernels_config": {
    "python": {
     "delete_cmd_postfix": "",
     "delete_cmd_prefix": "del ",
     "library": "var_list.py",
     "varRefreshCmd": "print(var_dic_list())"
    },
    "r": {
     "delete_cmd_postfix": ") ",
     "delete_cmd_prefix": "rm(",
     "library": "var_list.r",
     "varRefreshCmd": "cat(var_dic_list()) "
    }
   },
   "types_to_exclude": [
    "module",
    "function",
    "builtin_function_or_method",
    "instance",
    "_Feature"
   ],
   "window_display": false
  }
 },
 "nbformat": 4,
 "nbformat_minor": 2
}
